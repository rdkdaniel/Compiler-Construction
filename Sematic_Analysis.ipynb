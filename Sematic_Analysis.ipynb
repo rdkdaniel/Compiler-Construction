{
  "nbformat": 4,
  "nbformat_minor": 0,
  "metadata": {
    "colab": {
      "name": "Sematic Analysis",
      "provenance": [],
      "authorship_tag": "ABX9TyMmoQj7hgv2g7+fhO54A2PS",
      "include_colab_link": true
    },
    "kernelspec": {
      "name": "python3",
      "display_name": "Python 3"
    },
    "language_info": {
      "name": "python"
    }
  },
  "cells": [
    {
      "cell_type": "markdown",
      "metadata": {
        "id": "view-in-github",
        "colab_type": "text"
      },
      "source": [
        "<a href=\"https://colab.research.google.com/github/rdkdaniel/Compiler-Construction/blob/main/Sematic_Analysis.ipynb\" target=\"_parent\"><img src=\"https://colab.research.google.com/assets/colab-badge.svg\" alt=\"Open In Colab\"/></a>"
      ]
    },
    {
      "cell_type": "code",
      "execution_count": null,
      "metadata": {
        "id": "CQ9ME5_GvmJP"
      },
      "outputs": [],
      "source": [
        "#Semantic scripts"
      ]
    }
  ]
}
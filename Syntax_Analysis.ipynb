{
  "nbformat": 4,
  "nbformat_minor": 0,
  "metadata": {
    "colab": {
      "name": "Syntax Analysis",
      "provenance": [],
      "authorship_tag": "ABX9TyO+Aj468Cg5/dwb+iav7a7z",
      "include_colab_link": true
    },
    "kernelspec": {
      "name": "python3",
      "display_name": "Python 3"
    },
    "language_info": {
      "name": "python"
    }
  },
  "cells": [
    {
      "cell_type": "markdown",
      "metadata": {
        "id": "view-in-github",
        "colab_type": "text"
      },
      "source": [
        "<a href=\"https://colab.research.google.com/github/rdkdaniel/Compiler-Construction/blob/main/Syntax_Analysis.ipynb\" target=\"_parent\"><img src=\"https://colab.research.google.com/assets/colab-badge.svg\" alt=\"Open In Colab\"/></a>"
      ]
    },
    {
      "cell_type": "code",
      "execution_count": 1,
      "metadata": {
        "id": "eY_mLiDOu7nc"
      },
      "outputs": [],
      "source": [
        "#What is syntax analysis?\n",
        "#Scripts on syntax analysis"
      ]
    },
    {
      "cell_type": "code",
      "source": [
        "#Key link: https://riptutorial.com/compiler-construction/example/32435/simple-parser"
      ],
      "metadata": {
        "id": "ed1MrFX8Z05S"
      },
      "execution_count": 2,
      "outputs": []
    },
    {
      "cell_type": "code",
      "source": [
        ""
      ],
      "metadata": {
        "id": "m6Kqnef_Z3zh"
      },
      "execution_count": null,
      "outputs": []
    }
  ]
}
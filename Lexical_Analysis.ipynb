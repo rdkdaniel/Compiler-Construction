{
  "nbformat": 4,
  "nbformat_minor": 0,
  "metadata": {
    "colab": {
      "name": "Lexical Analysis",
      "provenance": [],
      "collapsed_sections": [],
      "authorship_tag": "ABX9TyPfeRiR5nH+Clr45Rf/JfTO",
      "include_colab_link": true
    },
    "kernelspec": {
      "name": "python3",
      "display_name": "Python 3"
    },
    "language_info": {
      "name": "python"
    }
  },
  "cells": [
    {
      "cell_type": "markdown",
      "metadata": {
        "id": "view-in-github",
        "colab_type": "text"
      },
      "source": [
        "<a href=\"https://colab.research.google.com/github/rdkdaniel/Compiler-Construction/blob/main/Lexical_Analysis.ipynb\" target=\"_parent\"><img src=\"https://colab.research.google.com/assets/colab-badge.svg\" alt=\"Open In Colab\"/></a>"
      ]
    },
    {
      "cell_type": "code",
      "execution_count": null,
      "metadata": {
        "id": "UGsINj_HusD3"
      },
      "outputs": [],
      "source": [
        "#Simple script breaking words into tokens\n",
        "#Can we generalize this tokenizer?\n",
        "\n",
        "#Key link: https://medium.com/@pythonmembers.club/building-a-lexer-in-python-a-tutorial-3b6de161fe84\n",
        "#Key link: https://www.jayconrod.com/posts/37/a-simple-interpreter-from-scratch-in-python-part-1"
      ]
    }
  ]
}